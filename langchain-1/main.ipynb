{
 "cells": [
  {
   "cell_type": "code",
   "execution_count": 1,
   "metadata": {},
   "outputs": [
    {
     "name": "stdout",
     "output_type": "stream",
     "text": [
      "Requirement already satisfied: python-dotenv in /Users/shahzaibnoor/anaconda3/envs/python-shahzaibse/lib/python3.12/site-packages (from -r requirements.txt (line 1)) (1.0.1)\n",
      "Requirement already satisfied: openai in /Users/shahzaibnoor/anaconda3/envs/python-shahzaibse/lib/python3.12/site-packages (from -r requirements.txt (line 2)) (1.52.2)\n",
      "Requirement already satisfied: langchain in /Users/shahzaibnoor/anaconda3/envs/python-shahzaibse/lib/python3.12/site-packages (from -r requirements.txt (line 3)) (0.3.4)\n",
      "Collecting pinecone-client (from -r requirements.txt (line 4))\n",
      "  Using cached pinecone_client-5.0.1-py3-none-any.whl.metadata (19 kB)\n",
      "Collecting tiktoken (from -r requirements.txt (line 5))\n",
      "  Using cached tiktoken-0.8.0-cp312-cp312-macosx_11_0_arm64.whl.metadata (6.6 kB)\n",
      "Requirement already satisfied: IPython in /Users/shahzaibnoor/anaconda3/envs/python-shahzaibse/lib/python3.12/site-packages (from -r requirements.txt (line 6)) (8.17.2)\n",
      "Collecting docarray (from -r requirements.txt (line 7))\n",
      "  Using cached docarray-0.40.0-py3-none-any.whl.metadata (36 kB)\n",
      "Requirement already satisfied: anyio<5,>=3.5.0 in /Users/shahzaibnoor/anaconda3/envs/python-shahzaibse/lib/python3.12/site-packages (from openai->-r requirements.txt (line 2)) (4.4.0)\n",
      "Requirement already satisfied: distro<2,>=1.7.0 in /Users/shahzaibnoor/anaconda3/envs/python-shahzaibse/lib/python3.12/site-packages (from openai->-r requirements.txt (line 2)) (1.9.0)\n",
      "Requirement already satisfied: httpx<1,>=0.23.0 in /Users/shahzaibnoor/anaconda3/envs/python-shahzaibse/lib/python3.12/site-packages (from openai->-r requirements.txt (line 2)) (0.27.2)\n",
      "Requirement already satisfied: jiter<1,>=0.4.0 in /Users/shahzaibnoor/anaconda3/envs/python-shahzaibse/lib/python3.12/site-packages (from openai->-r requirements.txt (line 2)) (0.5.0)\n",
      "Requirement already satisfied: pydantic<3,>=1.9.0 in /Users/shahzaibnoor/anaconda3/envs/python-shahzaibse/lib/python3.12/site-packages (from openai->-r requirements.txt (line 2)) (2.9.1)\n",
      "Requirement already satisfied: sniffio in /Users/shahzaibnoor/anaconda3/envs/python-shahzaibse/lib/python3.12/site-packages (from openai->-r requirements.txt (line 2)) (1.3.1)\n",
      "Requirement already satisfied: tqdm>4 in /Users/shahzaibnoor/anaconda3/envs/python-shahzaibse/lib/python3.12/site-packages (from openai->-r requirements.txt (line 2)) (4.66.5)\n",
      "Requirement already satisfied: typing-extensions<5,>=4.11 in /Users/shahzaibnoor/anaconda3/envs/python-shahzaibse/lib/python3.12/site-packages (from openai->-r requirements.txt (line 2)) (4.12.2)\n",
      "Requirement already satisfied: PyYAML>=5.3 in /Users/shahzaibnoor/anaconda3/envs/python-shahzaibse/lib/python3.12/site-packages (from langchain->-r requirements.txt (line 3)) (6.0.2)\n",
      "Requirement already satisfied: SQLAlchemy<3,>=1.4 in /Users/shahzaibnoor/anaconda3/envs/python-shahzaibse/lib/python3.12/site-packages (from langchain->-r requirements.txt (line 3)) (2.0.34)\n",
      "Requirement already satisfied: aiohttp<4.0.0,>=3.8.3 in /Users/shahzaibnoor/anaconda3/envs/python-shahzaibse/lib/python3.12/site-packages (from langchain->-r requirements.txt (line 3)) (3.10.5)\n",
      "Requirement already satisfied: langchain-core<0.4.0,>=0.3.12 in /Users/shahzaibnoor/anaconda3/envs/python-shahzaibse/lib/python3.12/site-packages (from langchain->-r requirements.txt (line 3)) (0.3.13)\n",
      "Requirement already satisfied: langchain-text-splitters<0.4.0,>=0.3.0 in /Users/shahzaibnoor/anaconda3/envs/python-shahzaibse/lib/python3.12/site-packages (from langchain->-r requirements.txt (line 3)) (0.3.0)\n",
      "Requirement already satisfied: langsmith<0.2.0,>=0.1.17 in /Users/shahzaibnoor/anaconda3/envs/python-shahzaibse/lib/python3.12/site-packages (from langchain->-r requirements.txt (line 3)) (0.1.137)\n",
      "Requirement already satisfied: numpy<2.0.0,>=1.26.0 in /Users/shahzaibnoor/anaconda3/envs/python-shahzaibse/lib/python3.12/site-packages (from langchain->-r requirements.txt (line 3)) (1.26.4)\n",
      "Requirement already satisfied: requests<3,>=2 in /Users/shahzaibnoor/anaconda3/envs/python-shahzaibse/lib/python3.12/site-packages (from langchain->-r requirements.txt (line 3)) (2.32.3)\n",
      "Requirement already satisfied: tenacity!=8.4.0,<10,>=8.1.0 in /Users/shahzaibnoor/anaconda3/envs/python-shahzaibse/lib/python3.12/site-packages (from langchain->-r requirements.txt (line 3)) (8.5.0)\n",
      "Requirement already satisfied: certifi>=2019.11.17 in /Users/shahzaibnoor/anaconda3/envs/python-shahzaibse/lib/python3.12/site-packages (from pinecone-client->-r requirements.txt (line 4)) (2024.8.30)\n",
      "Collecting pinecone-plugin-inference<2.0.0,>=1.0.3 (from pinecone-client->-r requirements.txt (line 4))\n",
      "  Using cached pinecone_plugin_inference-1.1.0-py3-none-any.whl.metadata (2.2 kB)\n",
      "Collecting pinecone-plugin-interface<0.0.8,>=0.0.7 (from pinecone-client->-r requirements.txt (line 4))\n",
      "  Using cached pinecone_plugin_interface-0.0.7-py3-none-any.whl.metadata (1.2 kB)\n",
      "Requirement already satisfied: urllib3>=1.26.5 in /Users/shahzaibnoor/anaconda3/envs/python-shahzaibse/lib/python3.12/site-packages (from pinecone-client->-r requirements.txt (line 4)) (2.2.3)\n",
      "Collecting regex>=2022.1.18 (from tiktoken->-r requirements.txt (line 5))\n",
      "  Using cached regex-2024.9.11-cp312-cp312-macosx_11_0_arm64.whl.metadata (40 kB)\n",
      "Requirement already satisfied: decorator in /Users/shahzaibnoor/anaconda3/envs/python-shahzaibse/lib/python3.12/site-packages (from IPython->-r requirements.txt (line 6)) (5.1.1)\n",
      "Requirement already satisfied: jedi>=0.16 in /Users/shahzaibnoor/anaconda3/envs/python-shahzaibse/lib/python3.12/site-packages (from IPython->-r requirements.txt (line 6)) (0.19.1)\n",
      "Requirement already satisfied: matplotlib-inline in /Users/shahzaibnoor/anaconda3/envs/python-shahzaibse/lib/python3.12/site-packages (from IPython->-r requirements.txt (line 6)) (0.1.6)\n",
      "Requirement already satisfied: prompt-toolkit!=3.0.37,<3.1.0,>=3.0.30 in /Users/shahzaibnoor/anaconda3/envs/python-shahzaibse/lib/python3.12/site-packages (from IPython->-r requirements.txt (line 6)) (3.0.40)\n",
      "Requirement already satisfied: pygments>=2.4.0 in /Users/shahzaibnoor/anaconda3/envs/python-shahzaibse/lib/python3.12/site-packages (from IPython->-r requirements.txt (line 6)) (2.18.0)\n",
      "Requirement already satisfied: stack-data in /Users/shahzaibnoor/anaconda3/envs/python-shahzaibse/lib/python3.12/site-packages (from IPython->-r requirements.txt (line 6)) (0.6.2)\n",
      "Requirement already satisfied: traitlets>=5 in /Users/shahzaibnoor/anaconda3/envs/python-shahzaibse/lib/python3.12/site-packages (from IPython->-r requirements.txt (line 6)) (5.13.0)\n",
      "Requirement already satisfied: pexpect>4.3 in /Users/shahzaibnoor/anaconda3/envs/python-shahzaibse/lib/python3.12/site-packages (from IPython->-r requirements.txt (line 6)) (4.8.0)\n",
      "Requirement already satisfied: appnope in /Users/shahzaibnoor/anaconda3/envs/python-shahzaibse/lib/python3.12/site-packages (from IPython->-r requirements.txt (line 6)) (0.1.3)\n",
      "Requirement already satisfied: orjson>=3.8.2 in /Users/shahzaibnoor/anaconda3/envs/python-shahzaibse/lib/python3.12/site-packages (from docarray->-r requirements.txt (line 7)) (3.10.7)\n",
      "Requirement already satisfied: rich>=13.1.0 in /Users/shahzaibnoor/anaconda3/envs/python-shahzaibse/lib/python3.12/site-packages (from docarray->-r requirements.txt (line 7)) (13.7.1)\n",
      "Collecting types-requests>=2.28.11.6 (from docarray->-r requirements.txt (line 7))\n",
      "  Using cached types_requests-2.32.0.20241016-py3-none-any.whl.metadata (1.9 kB)\n",
      "Requirement already satisfied: typing-inspect>=0.8.0 in /Users/shahzaibnoor/anaconda3/envs/python-shahzaibse/lib/python3.12/site-packages (from docarray->-r requirements.txt (line 7)) (0.9.0)\n",
      "Requirement already satisfied: aiohappyeyeballs>=2.3.0 in /Users/shahzaibnoor/anaconda3/envs/python-shahzaibse/lib/python3.12/site-packages (from aiohttp<4.0.0,>=3.8.3->langchain->-r requirements.txt (line 3)) (2.4.0)\n",
      "Requirement already satisfied: aiosignal>=1.1.2 in /Users/shahzaibnoor/anaconda3/envs/python-shahzaibse/lib/python3.12/site-packages (from aiohttp<4.0.0,>=3.8.3->langchain->-r requirements.txt (line 3)) (1.3.1)\n",
      "Requirement already satisfied: attrs>=17.3.0 in /Users/shahzaibnoor/anaconda3/envs/python-shahzaibse/lib/python3.12/site-packages (from aiohttp<4.0.0,>=3.8.3->langchain->-r requirements.txt (line 3)) (24.2.0)\n",
      "Requirement already satisfied: frozenlist>=1.1.1 in /Users/shahzaibnoor/anaconda3/envs/python-shahzaibse/lib/python3.12/site-packages (from aiohttp<4.0.0,>=3.8.3->langchain->-r requirements.txt (line 3)) (1.4.1)\n",
      "Requirement already satisfied: multidict<7.0,>=4.5 in /Users/shahzaibnoor/anaconda3/envs/python-shahzaibse/lib/python3.12/site-packages (from aiohttp<4.0.0,>=3.8.3->langchain->-r requirements.txt (line 3)) (6.1.0)\n",
      "Requirement already satisfied: yarl<2.0,>=1.0 in /Users/shahzaibnoor/anaconda3/envs/python-shahzaibse/lib/python3.12/site-packages (from aiohttp<4.0.0,>=3.8.3->langchain->-r requirements.txt (line 3)) (1.11.1)\n",
      "Requirement already satisfied: idna>=2.8 in /Users/shahzaibnoor/anaconda3/envs/python-shahzaibse/lib/python3.12/site-packages (from anyio<5,>=3.5.0->openai->-r requirements.txt (line 2)) (3.8)\n",
      "Requirement already satisfied: httpcore==1.* in /Users/shahzaibnoor/anaconda3/envs/python-shahzaibse/lib/python3.12/site-packages (from httpx<1,>=0.23.0->openai->-r requirements.txt (line 2)) (1.0.5)\n",
      "Requirement already satisfied: h11<0.15,>=0.13 in /Users/shahzaibnoor/anaconda3/envs/python-shahzaibse/lib/python3.12/site-packages (from httpcore==1.*->httpx<1,>=0.23.0->openai->-r requirements.txt (line 2)) (0.14.0)\n",
      "Requirement already satisfied: parso<0.9.0,>=0.8.3 in /Users/shahzaibnoor/anaconda3/envs/python-shahzaibse/lib/python3.12/site-packages (from jedi>=0.16->IPython->-r requirements.txt (line 6)) (0.8.3)\n",
      "Requirement already satisfied: jsonpatch<2.0,>=1.33 in /Users/shahzaibnoor/anaconda3/envs/python-shahzaibse/lib/python3.12/site-packages (from langchain-core<0.4.0,>=0.3.12->langchain->-r requirements.txt (line 3)) (1.33)\n",
      "Requirement already satisfied: packaging<25,>=23.2 in /Users/shahzaibnoor/anaconda3/envs/python-shahzaibse/lib/python3.12/site-packages (from langchain-core<0.4.0,>=0.3.12->langchain->-r requirements.txt (line 3)) (24.1)\n",
      "Requirement already satisfied: requests-toolbelt<2.0.0,>=1.0.0 in /Users/shahzaibnoor/anaconda3/envs/python-shahzaibse/lib/python3.12/site-packages (from langsmith<0.2.0,>=0.1.17->langchain->-r requirements.txt (line 3)) (1.0.0)\n",
      "Requirement already satisfied: ptyprocess>=0.5 in /Users/shahzaibnoor/anaconda3/envs/python-shahzaibse/lib/python3.12/site-packages (from pexpect>4.3->IPython->-r requirements.txt (line 6)) (0.7.0)\n",
      "Requirement already satisfied: wcwidth in /Users/shahzaibnoor/anaconda3/envs/python-shahzaibse/lib/python3.12/site-packages (from prompt-toolkit!=3.0.37,<3.1.0,>=3.0.30->IPython->-r requirements.txt (line 6)) (0.2.9)\n",
      "Requirement already satisfied: annotated-types>=0.6.0 in /Users/shahzaibnoor/anaconda3/envs/python-shahzaibse/lib/python3.12/site-packages (from pydantic<3,>=1.9.0->openai->-r requirements.txt (line 2)) (0.7.0)\n",
      "Requirement already satisfied: pydantic-core==2.23.3 in /Users/shahzaibnoor/anaconda3/envs/python-shahzaibse/lib/python3.12/site-packages (from pydantic<3,>=1.9.0->openai->-r requirements.txt (line 2)) (2.23.3)\n",
      "Requirement already satisfied: charset-normalizer<4,>=2 in /Users/shahzaibnoor/anaconda3/envs/python-shahzaibse/lib/python3.12/site-packages (from requests<3,>=2->langchain->-r requirements.txt (line 3)) (3.3.2)\n",
      "Requirement already satisfied: markdown-it-py>=2.2.0 in /Users/shahzaibnoor/anaconda3/envs/python-shahzaibse/lib/python3.12/site-packages (from rich>=13.1.0->docarray->-r requirements.txt (line 7)) (3.0.0)\n",
      "Requirement already satisfied: mypy-extensions>=0.3.0 in /Users/shahzaibnoor/anaconda3/envs/python-shahzaibse/lib/python3.12/site-packages (from typing-inspect>=0.8.0->docarray->-r requirements.txt (line 7)) (1.0.0)\n",
      "Requirement already satisfied: executing>=1.2.0 in /Users/shahzaibnoor/anaconda3/envs/python-shahzaibse/lib/python3.12/site-packages (from stack-data->IPython->-r requirements.txt (line 6)) (2.0.1)\n",
      "Requirement already satisfied: asttokens>=2.1.0 in /Users/shahzaibnoor/anaconda3/envs/python-shahzaibse/lib/python3.12/site-packages (from stack-data->IPython->-r requirements.txt (line 6)) (2.4.1)\n",
      "Requirement already satisfied: pure-eval in /Users/shahzaibnoor/anaconda3/envs/python-shahzaibse/lib/python3.12/site-packages (from stack-data->IPython->-r requirements.txt (line 6)) (0.2.2)\n",
      "Requirement already satisfied: six>=1.12.0 in /Users/shahzaibnoor/anaconda3/envs/python-shahzaibse/lib/python3.12/site-packages (from asttokens>=2.1.0->stack-data->IPython->-r requirements.txt (line 6)) (1.16.0)\n",
      "Requirement already satisfied: jsonpointer>=1.9 in /Users/shahzaibnoor/anaconda3/envs/python-shahzaibse/lib/python3.12/site-packages (from jsonpatch<2.0,>=1.33->langchain-core<0.4.0,>=0.3.12->langchain->-r requirements.txt (line 3)) (3.0.0)\n",
      "Requirement already satisfied: mdurl~=0.1 in /Users/shahzaibnoor/anaconda3/envs/python-shahzaibse/lib/python3.12/site-packages (from markdown-it-py>=2.2.0->rich>=13.1.0->docarray->-r requirements.txt (line 7)) (0.1.2)\n",
      "Using cached pinecone_client-5.0.1-py3-none-any.whl (244 kB)\n",
      "Using cached tiktoken-0.8.0-cp312-cp312-macosx_11_0_arm64.whl (982 kB)\n",
      "Using cached docarray-0.40.0-py3-none-any.whl (270 kB)\n",
      "Using cached pinecone_plugin_inference-1.1.0-py3-none-any.whl (85 kB)\n",
      "Using cached pinecone_plugin_interface-0.0.7-py3-none-any.whl (6.2 kB)\n",
      "Using cached regex-2024.9.11-cp312-cp312-macosx_11_0_arm64.whl (284 kB)\n",
      "Using cached types_requests-2.32.0.20241016-py3-none-any.whl (15 kB)\n",
      "Installing collected packages: types-requests, regex, pinecone-plugin-interface, tiktoken, pinecone-plugin-inference, pinecone-client, docarray\n",
      "Successfully installed docarray-0.40.0 pinecone-client-5.0.1 pinecone-plugin-inference-1.1.0 pinecone-plugin-interface-0.0.7 regex-2024.9.11 tiktoken-0.8.0 types-requests-2.32.0.20241016\n",
      "Note: you may need to restart the kernel to use updated packages.\n"
     ]
    }
   ],
   "source": [
    "%pip install -r requirements.txt"
   ]
  },
  {
   "cell_type": "code",
   "execution_count": 2,
   "metadata": {},
   "outputs": [],
   "source": [
    "from dotenv import load_dotenv, find_dotenv\n",
    "import os\n",
    "\n",
    "_ = load_dotenv(find_dotenv())"
   ]
  },
  {
   "cell_type": "code",
   "execution_count": 3,
   "metadata": {},
   "outputs": [
    {
     "name": "stderr",
     "output_type": "stream",
     "text": [
      "/var/folders/t8/3sggsgnd6l5b6hy80l4xzr540000gn/T/ipykernel_52569/1681291273.py:4: LangChainDeprecationWarning: The class `OpenAI` was deprecated in LangChain 0.0.10 and will be removed in 1.0. An updated version of the class exists in the :class:`~langchain-openai package and should be used instead. To use it run `pip install -U :class:`~langchain-openai` and import as `from :class:`~langchain_openai import OpenAI``.\n",
      "  my_llm = OpenAI(temperature=0.6, openai_api_key=os.environ.get('OPENAI_API_KEY'))\n"
     ]
    }
   ],
   "source": [
    "# from openai import OpenAI\n",
    "from langchain.llms import OpenAI\n",
    "\n",
    "my_llm = OpenAI(temperature=0.6, openai_api_key=os.environ.get('OPENAI_API_KEY'))\n"
   ]
  },
  {
   "cell_type": "code",
   "execution_count": 4,
   "metadata": {},
   "outputs": [
    {
     "name": "stderr",
     "output_type": "stream",
     "text": [
      "/var/folders/t8/3sggsgnd6l5b6hy80l4xzr540000gn/T/ipykernel_52569/373848519.py:3: LangChainDeprecationWarning: The method `BaseLLM.predict` was deprecated in langchain-core 0.1.7 and will be removed in 1.0. Use :meth:`~invoke` instead.\n",
      "  print(my_llm.predict(text))\n"
     ]
    },
    {
     "name": "stdout",
     "output_type": "stream",
     "text": [
      "\n",
      "\n",
      "The capital of Pakistan is Islamabad.\n"
     ]
    }
   ],
   "source": [
    "text = \"What is the capital of Pakistan?\"\n",
    "\n",
    "print(my_llm.predict(text))"
   ]
  }
 ],
 "metadata": {
  "kernelspec": {
   "display_name": "python-shahzaibse",
   "language": "python",
   "name": "python3"
  },
  "language_info": {
   "codemirror_mode": {
    "name": "ipython",
    "version": 3
   },
   "file_extension": ".py",
   "mimetype": "text/x-python",
   "name": "python",
   "nbconvert_exporter": "python",
   "pygments_lexer": "ipython3",
   "version": "3.12.2"
  }
 },
 "nbformat": 4,
 "nbformat_minor": 2
}
