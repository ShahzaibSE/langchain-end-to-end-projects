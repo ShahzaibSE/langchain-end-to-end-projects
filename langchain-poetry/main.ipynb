{
 "cells": [
  {
   "cell_type": "code",
   "execution_count": 10,
   "metadata": {},
   "outputs": [],
   "source": [
    "from dotenv import load_dotenv, find_dotenv\n",
    "import os\n",
    "from rich.console import Console\n",
    "\n",
    "console = Console()\n",
    "\n",
    "_ = load_dotenv(find_dotenv())"
   ]
  },
  {
   "cell_type": "code",
   "execution_count": 11,
   "metadata": {},
   "outputs": [],
   "source": [
    "# from openai import OpenAI\n",
    "from langchain.llms import OpenAI\n",
    "\n",
    "my_llm = OpenAI(temperature=0.8, openai_api_key=os.environ.get('OPENAI_API_KEY'))\n"
   ]
  },
  {
   "cell_type": "code",
   "execution_count": 12,
   "metadata": {},
   "outputs": [
    {
     "data": {
      "text/html": [
       "<pre style=\"white-space:pre;overflow-x:auto;line-height:normal;font-family:Menlo,'DejaVu Sans Mono',consolas,'Courier New',monospace\">\n",
       "\n",
       "In the final issue of Final Crisis <span style=\"font-weight: bold\">(</span>Issue #<span style=\"color: #008080; text-decoration-color: #008080; font-weight: bold\">7</span><span style=\"font-weight: bold\">)</span>, Batman is sent back in time by Darkseid's Omega Sanction. He is \n",
       "trapped in the past, reliving his life over and over again, until he finally breaks free and returns to the \n",
       "present. However, by the time he returns, Darkseid has already been defeated and the world has been changed by the \n",
       "actions of Superman and the remaining superheroes. \n",
       "\n",
       "During his time-traveling, a clone of Batman named <span style=\"color: #008000; text-decoration-color: #008000\">\"The Batman of Zur-En-Arrh\"</span> was created by Batman's subconscious\n",
       "to continue fighting against the forces of Darkseid. This clone ultimately sacrifices himself in the final battle, \n",
       "allowing the real Batman to return to the present and defeat Darkseid once and for all. \n",
       "\n",
       "In summary, the real Batman did not die in Final Crisis, but a clone of him did play a significant role in the \n",
       "events leading up to Darkseid's defeat. \n",
       "</pre>\n"
      ],
      "text/plain": [
       "\n",
       "\n",
       "In the final issue of Final Crisis \u001b[1m(\u001b[0mIssue #\u001b[1;36m7\u001b[0m\u001b[1m)\u001b[0m, Batman is sent back in time by Darkseid's Omega Sanction. He is \n",
       "trapped in the past, reliving his life over and over again, until he finally breaks free and returns to the \n",
       "present. However, by the time he returns, Darkseid has already been defeated and the world has been changed by the \n",
       "actions of Superman and the remaining superheroes. \n",
       "\n",
       "During his time-traveling, a clone of Batman named \u001b[32m\"The Batman of Zur-En-Arrh\"\u001b[0m was created by Batman's subconscious\n",
       "to continue fighting against the forces of Darkseid. This clone ultimately sacrifices himself in the final battle, \n",
       "allowing the real Batman to return to the present and defeat Darkseid once and for all. \n",
       "\n",
       "In summary, the real Batman did not die in Final Crisis, but a clone of him did play a significant role in the \n",
       "events leading up to Darkseid's defeat. \n"
      ]
     },
     "metadata": {},
     "output_type": "display_data"
    }
   ],
   "source": [
    "text = \"What happened to Batman in the final crisis comic? I think it was the clone of Batman that died while reall Batman was time travelling\"\n",
    "\n",
    "console.print(my_llm.predict(text))"
   ]
  },
  {
   "cell_type": "markdown",
   "metadata": {},
   "source": [
    "### **Hugging Face - Open Source Models**"
   ]
  },
  {
   "cell_type": "code",
   "execution_count": 14,
   "metadata": {},
   "outputs": [],
   "source": [
    "import os\n",
    "from langchain import HuggingFaceHub\n",
    "\n",
    "huggingFaceHub_API_Token = os.environ.get('HUGGINGFACEHUB_API_TOKEN')\n",
    "# creating huggingface model instance\n",
    "llm_huggingface_model = HuggingFaceHub(repo_id='google/flan-t5-large', model_kwargs={\"temperature\":0, \"max_length\":64})\n"
   ]
  },
  {
   "cell_type": "code",
   "execution_count": 16,
   "metadata": {},
   "outputs": [
    {
     "data": {
      "text/html": [
       "<pre style=\"white-space:pre;overflow-x:auto;line-height:normal;font-family:Menlo,'DejaVu Sans Mono',consolas,'Courier New',monospace\">i love you i love you i love you i love you i love you i love you i love you i love you i love you i love you i \n",
       "love you i love you i love you i love you i love you i love\n",
       "</pre>\n"
      ],
      "text/plain": [
       "i love you i love you i love you i love you i love you i love you i love you i love you i love you i love you i \n",
       "love you i love you i love you i love you i love you i love\n"
      ]
     },
     "metadata": {},
     "output_type": "display_data"
    }
   ],
   "source": [
    "output = llm_huggingface_model.predict(\"Can you write a poem about AI?\")\n",
    "console.print(output)"
   ]
  },
  {
   "cell_type": "code",
   "execution_count": 17,
   "metadata": {},
   "outputs": [
    {
     "data": {
      "text/html": [
       "<pre style=\"white-space:pre;overflow-x:auto;line-height:normal;font-family:Menlo,'DejaVu Sans Mono',consolas,'Courier New',monospace\">joey roosevelt\n",
       "</pre>\n"
      ],
      "text/plain": [
       "joey roosevelt\n"
      ]
     },
     "metadata": {},
     "output_type": "display_data"
    }
   ],
   "source": [
    "output = llm_huggingface_model.predict(\"Can tell me the best superhero of all time?\")\n",
    "console.print(output)"
   ]
  },
  {
   "cell_type": "code",
   "execution_count": 18,
   "metadata": {},
   "outputs": [
    {
     "data": {
      "text/html": [
       "<pre style=\"white-space:pre;overflow-x:auto;line-height:normal;font-family:Menlo,'DejaVu Sans Mono',consolas,'Courier New',monospace\">chennai\n",
       "</pre>\n"
      ],
      "text/plain": [
       "chennai\n"
      ]
     },
     "metadata": {},
     "output_type": "display_data"
    }
   ],
   "source": [
    "output = llm_huggingface_model.predict(\"Can you tell me capital of India?\")\n",
    "console.print(output)"
   ]
  }
 ],
 "metadata": {
  "kernelspec": {
   "display_name": "Python 3",
   "language": "python",
   "name": "python3"
  },
  "language_info": {
   "codemirror_mode": {
    "name": "ipython",
    "version": 3
   },
   "file_extension": ".py",
   "mimetype": "text/x-python",
   "name": "python",
   "nbconvert_exporter": "python",
   "pygments_lexer": "ipython3",
   "version": "3.12.2"
  }
 },
 "nbformat": 4,
 "nbformat_minor": 2
}
