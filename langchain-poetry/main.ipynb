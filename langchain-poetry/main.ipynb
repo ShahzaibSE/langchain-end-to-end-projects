{
 "cells": [
  {
   "cell_type": "code",
   "execution_count": 1,
   "metadata": {},
   "outputs": [],
   "source": [
    "from dotenv import load_dotenv, find_dotenv\n",
    "import os\n",
    "from rich.console import Console\n",
    "\n",
    "console = Console()\n",
    "\n",
    "_ = load_dotenv(find_dotenv())"
   ]
  },
  {
   "cell_type": "code",
   "execution_count": 2,
   "metadata": {},
   "outputs": [
    {
     "name": "stderr",
     "output_type": "stream",
     "text": [
      "/var/folders/t8/3sggsgnd6l5b6hy80l4xzr540000gn/T/ipykernel_13518/2377838522.py:4: LangChainDeprecationWarning: The class `OpenAI` was deprecated in LangChain 0.0.10 and will be removed in 1.0. An updated version of the class exists in the :class:`~langchain-openai package and should be used instead. To use it run `pip install -U :class:`~langchain-openai` and import as `from :class:`~langchain_openai import OpenAI``.\n",
      "  my_llm = OpenAI(temperature=0.8, openai_api_key=os.environ.get('OPENAI_API_KEY'))\n"
     ]
    }
   ],
   "source": [
    "# from openai import OpenAI\n",
    "from langchain.llms import OpenAI\n",
    "\n",
    "my_llm = OpenAI(temperature=0.8, openai_api_key=os.environ.get('OPENAI_API_KEY'))\n"
   ]
  },
  {
   "cell_type": "code",
   "execution_count": 3,
   "metadata": {},
   "outputs": [
    {
     "name": "stderr",
     "output_type": "stream",
     "text": [
      "/var/folders/t8/3sggsgnd6l5b6hy80l4xzr540000gn/T/ipykernel_13518/335960789.py:3: LangChainDeprecationWarning: The method `BaseLLM.predict` was deprecated in langchain-core 0.1.7 and will be removed in 1.0. Use :meth:`~invoke` instead.\n",
      "  console.print(my_llm.predict(text))\n"
     ]
    },
    {
     "data": {
      "text/html": [
       "<pre style=\"white-space:pre;overflow-x:auto;line-height:normal;font-family:Menlo,'DejaVu Sans Mono',consolas,'Courier New',monospace\">\n",
       "\n",
       "In the final crisis comic, Batman is subjected to the Anti-Life Equation, a powerful mind control tool created by \n",
       "Darkseid. This forces him to become one of Darkseid's pawns and he is sent back in time to kill Orion, a New God \n",
       "and Darkseid's son.\n",
       "\n",
       "However, the Batman who is sent back in time is not the real Bruce Wayne, but a clone of him created by Darkseid. \n",
       "The real Batman was actually time traveling to the past to retrieve the Omega Sanction, a weapon that could defeat \n",
       "Darkseid.\n",
       "\n",
       "During the final battle between the heroes and Darkseid, the clone Batman sacrifices himself to protect Superman \n",
       "and Wonder Woman from Darkseid's Omega Beams. This allows the real Batman to retrieve the Omega Sanction and use it\n",
       "to defeat Darkseid.\n",
       "\n",
       "In the aftermath of the battle, the real Batman returns to the present, but is believed to have died in the battle.\n",
       "However, he is revealed to have been sent back in time again by the Omega Sanction, leaving his fate open to \n",
       "interpretation. Some believe that he is trapped in an endless cycle of living and dying, while others believe he \n",
       "has found a way to escape.\n",
       "</pre>\n"
      ],
      "text/plain": [
       "\n",
       "\n",
       "In the final crisis comic, Batman is subjected to the Anti-Life Equation, a powerful mind control tool created by \n",
       "Darkseid. This forces him to become one of Darkseid's pawns and he is sent back in time to kill Orion, a New God \n",
       "and Darkseid's son.\n",
       "\n",
       "However, the Batman who is sent back in time is not the real Bruce Wayne, but a clone of him created by Darkseid. \n",
       "The real Batman was actually time traveling to the past to retrieve the Omega Sanction, a weapon that could defeat \n",
       "Darkseid.\n",
       "\n",
       "During the final battle between the heroes and Darkseid, the clone Batman sacrifices himself to protect Superman \n",
       "and Wonder Woman from Darkseid's Omega Beams. This allows the real Batman to retrieve the Omega Sanction and use it\n",
       "to defeat Darkseid.\n",
       "\n",
       "In the aftermath of the battle, the real Batman returns to the present, but is believed to have died in the battle.\n",
       "However, he is revealed to have been sent back in time again by the Omega Sanction, leaving his fate open to \n",
       "interpretation. Some believe that he is trapped in an endless cycle of living and dying, while others believe he \n",
       "has found a way to escape.\n"
      ]
     },
     "metadata": {},
     "output_type": "display_data"
    }
   ],
   "source": [
    "text = \"What happened to Batman in the final crisis comic? I think it was the clone of Batman that died while reall Batman was time travelling\"\n",
    "\n",
    "console.print(my_llm.predict(text))"
   ]
  },
  {
   "cell_type": "markdown",
   "metadata": {},
   "source": [
    "### **Hugging Face - Open Source Models**"
   ]
  },
  {
   "cell_type": "code",
   "execution_count": 4,
   "metadata": {},
   "outputs": [
    {
     "name": "stderr",
     "output_type": "stream",
     "text": [
      "/var/folders/t8/3sggsgnd6l5b6hy80l4xzr540000gn/T/ipykernel_13518/1871633335.py:6: LangChainDeprecationWarning: The class `HuggingFaceHub` was deprecated in LangChain 0.0.21 and will be removed in 1.0. An updated version of the class exists in the :class:`~langchain-huggingface package and should be used instead. To use it run `pip install -U :class:`~langchain-huggingface` and import as `from :class:`~langchain_huggingface import HuggingFaceEndpoint``.\n",
      "  llm_huggingface_model = HuggingFaceHub(repo_id='google/flan-t5-large', model_kwargs={\"temperature\":0.6, \"max_length\":64})\n",
      "/Users/shahzaibnoor/anaconda3/envs/python-shahzaibse/lib/python3.12/site-packages/tqdm/auto.py:21: TqdmWarning: IProgress not found. Please update jupyter and ipywidgets. See https://ipywidgets.readthedocs.io/en/stable/user_install.html\n",
      "  from .autonotebook import tqdm as notebook_tqdm\n"
     ]
    }
   ],
   "source": [
    "import os\n",
    "from langchain import HuggingFaceHub\n",
    "\n",
    "huggingFaceHub_API_Token = os.environ.get('HUGGINGFACEHUB_API_TOKEN')\n",
    "# creating huggingface model instance\n",
    "llm_huggingface_model = HuggingFaceHub(repo_id='google/flan-t5-large', model_kwargs={\"temperature\":0.6, \"max_length\":64})\n"
   ]
  }
 ],
 "metadata": {
  "kernelspec": {
   "display_name": "Python 3",
   "language": "python",
   "name": "python3"
  },
  "language_info": {
   "codemirror_mode": {
    "name": "ipython",
    "version": 3
   },
   "file_extension": ".py",
   "mimetype": "text/x-python",
   "name": "python",
   "nbconvert_exporter": "python",
   "pygments_lexer": "ipython3",
   "version": "3.12.2"
  }
 },
 "nbformat": 4,
 "nbformat_minor": 2
}
