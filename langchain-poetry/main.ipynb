{
 "cells": [
  {
   "cell_type": "code",
   "execution_count": 1,
   "metadata": {},
   "outputs": [],
   "source": [
    "from dotenv import load_dotenv, find_dotenv\n",
    "import os\n",
    "from rich.console import Console\n",
    "\n",
    "console = Console()\n",
    "\n",
    "_ = load_dotenv(find_dotenv())"
   ]
  },
  {
   "cell_type": "code",
   "execution_count": 2,
   "metadata": {},
   "outputs": [
    {
     "name": "stderr",
     "output_type": "stream",
     "text": [
      "/var/folders/t8/3sggsgnd6l5b6hy80l4xzr540000gn/T/ipykernel_64038/3409685245.py:4: LangChainDeprecationWarning: The class `OpenAI` was deprecated in LangChain 0.0.10 and will be removed in 1.0. An updated version of the class exists in the :class:`~langchain-openai package and should be used instead. To use it run `pip install -U :class:`~langchain-openai` and import as `from :class:`~langchain_openai import OpenAI``.\n",
      "  my_llm = OpenAI(temperature=0.2, openai_api_key=os.environ.get('OPENAI_API_KEY'))\n"
     ]
    }
   ],
   "source": [
    "# from openai import OpenAI\n",
    "from langchain.llms import OpenAI\n",
    "\n",
    "my_llm = OpenAI(temperature=0.2, openai_api_key=os.environ.get('OPENAI_API_KEY'))\n"
   ]
  },
  {
   "cell_type": "code",
   "execution_count": 3,
   "metadata": {},
   "outputs": [
    {
     "name": "stderr",
     "output_type": "stream",
     "text": [
      "/var/folders/t8/3sggsgnd6l5b6hy80l4xzr540000gn/T/ipykernel_64038/335960789.py:3: LangChainDeprecationWarning: The method `BaseLLM.predict` was deprecated in langchain-core 0.1.7 and will be removed in 1.0. Use :meth:`~invoke` instead.\n",
      "  console.print(my_llm.predict(text))\n"
     ]
    },
    {
     "data": {
      "text/html": [
       "<pre style=\"white-space:pre;overflow-x:auto;line-height:normal;font-family:Menlo,'DejaVu Sans Mono',consolas,'Courier New',monospace\">\n",
       "\n",
       "In the final issue of <span style=\"color: #008000; text-decoration-color: #008000\">\"Final Crisis,\"</span> Batman is seemingly killed by Darkseid's Omega Sanction, a powerful energy \n",
       "beam that sends its victims through time and space, trapping them in a never-ending cycle of death and rebirth. \n",
       "However, it is later revealed that the Batman who was killed was actually a clone created by Darkseid's minions, \n",
       "while the real Batman had been sent back in time by Darkseid's Omega Sanction. The real Batman eventually returns \n",
       "to the present and helps defeat Darkseid, saving the multiverse from destruction.\n",
       "</pre>\n"
      ],
      "text/plain": [
       "\n",
       "\n",
       "In the final issue of \u001b[32m\"Final Crisis,\"\u001b[0m Batman is seemingly killed by Darkseid's Omega Sanction, a powerful energy \n",
       "beam that sends its victims through time and space, trapping them in a never-ending cycle of death and rebirth. \n",
       "However, it is later revealed that the Batman who was killed was actually a clone created by Darkseid's minions, \n",
       "while the real Batman had been sent back in time by Darkseid's Omega Sanction. The real Batman eventually returns \n",
       "to the present and helps defeat Darkseid, saving the multiverse from destruction.\n"
      ]
     },
     "metadata": {},
     "output_type": "display_data"
    }
   ],
   "source": [
    "text = \"What happened to Batman in the final crisis comic? I think it was the clone of Batman that died while reall Batman was time travelling\"\n",
    "\n",
    "console.print(my_llm.predict(text))"
   ]
  }
 ],
 "metadata": {
  "kernelspec": {
   "display_name": "python-shahzaibse",
   "language": "python",
   "name": "python3"
  },
  "language_info": {
   "codemirror_mode": {
    "name": "ipython",
    "version": 3
   },
   "file_extension": ".py",
   "mimetype": "text/x-python",
   "name": "python",
   "nbconvert_exporter": "python",
   "pygments_lexer": "ipython3",
   "version": "3.12.2"
  }
 },
 "nbformat": 4,
 "nbformat_minor": 2
}
