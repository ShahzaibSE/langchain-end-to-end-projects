{
 "cells": [
  {
   "cell_type": "code",
   "execution_count": 1,
   "metadata": {},
   "outputs": [],
   "source": [
    "from dotenv import load_dotenv, find_dotenv\n",
    "import os\n",
    "from rich.console import Console\n",
    "\n",
    "console = Console()\n",
    "\n",
    "_ = load_dotenv(find_dotenv())"
   ]
  },
  {
   "cell_type": "code",
   "execution_count": 2,
   "metadata": {},
   "outputs": [
    {
     "name": "stderr",
     "output_type": "stream",
     "text": [
      "/var/folders/t8/3sggsgnd6l5b6hy80l4xzr540000gn/T/ipykernel_55558/3409685245.py:4: LangChainDeprecationWarning: The class `OpenAI` was deprecated in LangChain 0.0.10 and will be removed in 1.0. An updated version of the class exists in the :class:`~langchain-openai package and should be used instead. To use it run `pip install -U :class:`~langchain-openai` and import as `from :class:`~langchain_openai import OpenAI``.\n",
      "  my_llm = OpenAI(temperature=0.2, openai_api_key=os.environ.get('OPENAI_API_KEY'))\n"
     ]
    }
   ],
   "source": [
    "# from openai import OpenAI\n",
    "from langchain.llms import OpenAI\n",
    "\n",
    "my_llm = OpenAI(temperature=0.2, openai_api_key=os.environ.get('OPENAI_API_KEY'))\n"
   ]
  },
  {
   "cell_type": "code",
   "execution_count": 3,
   "metadata": {},
   "outputs": [
    {
     "name": "stderr",
     "output_type": "stream",
     "text": [
      "/var/folders/t8/3sggsgnd6l5b6hy80l4xzr540000gn/T/ipykernel_55558/335960789.py:3: LangChainDeprecationWarning: The method `BaseLLM.predict` was deprecated in langchain-core 0.1.7 and will be removed in 1.0. Use :meth:`~invoke` instead.\n",
      "  console.print(my_llm.predict(text))\n"
     ]
    },
    {
     "data": {
      "text/html": [
       "<pre style=\"white-space:pre;overflow-x:auto;line-height:normal;font-family:Menlo,'DejaVu Sans Mono',consolas,'Courier New',monospace\">\n",
       "\n",
       "In the final crisis comic, Batman was involved in a major battle against Darkseid, the ruler of Apokolips. During \n",
       "the battle, Batman was seemingly killed by Darkseid's Omega Beams. However, it was later revealed that the Batman \n",
       "who died was actually a clone created by Darkseid's minions. The real Batman had been sent back in time by the \n",
       "Omega Sanction, a powerful time-traveling weapon, and was presumed dead by his allies.\n",
       "\n",
       "In reality, Batman was trapped in the past, reliving his life over and over again in different time periods. He \n",
       "eventually broke free from the Omega Sanction and returned to the present, where he helped defeat Darkseid and save\n",
       "the universe.\n",
       "\n",
       "The clone of Batman, known as the <span style=\"color: #008000; text-decoration-color: #008000\">\"Batman of Zur-En-Arrh,\"</span> continued to fight alongside the other heroes, but \n",
       "ultimately sacrificed himself to stop Darkseid's plan. The real Batman returned to the present and resumed his role\n",
       "as Gotham's protector, but he was forever changed by his experience in the past.\n",
       "</pre>\n"
      ],
      "text/plain": [
       "\n",
       "\n",
       "In the final crisis comic, Batman was involved in a major battle against Darkseid, the ruler of Apokolips. During \n",
       "the battle, Batman was seemingly killed by Darkseid's Omega Beams. However, it was later revealed that the Batman \n",
       "who died was actually a clone created by Darkseid's minions. The real Batman had been sent back in time by the \n",
       "Omega Sanction, a powerful time-traveling weapon, and was presumed dead by his allies.\n",
       "\n",
       "In reality, Batman was trapped in the past, reliving his life over and over again in different time periods. He \n",
       "eventually broke free from the Omega Sanction and returned to the present, where he helped defeat Darkseid and save\n",
       "the universe.\n",
       "\n",
       "The clone of Batman, known as the \u001b[32m\"Batman of Zur-En-Arrh,\"\u001b[0m continued to fight alongside the other heroes, but \n",
       "ultimately sacrificed himself to stop Darkseid's plan. The real Batman returned to the present and resumed his role\n",
       "as Gotham's protector, but he was forever changed by his experience in the past.\n"
      ]
     },
     "metadata": {},
     "output_type": "display_data"
    }
   ],
   "source": [
    "text = \"What happened to Batman in the final crisis comic? I think it was the clone of Batman that died while reall Batman was time travelling\"\n",
    "\n",
    "console.print(my_llm.predict(text))"
   ]
  }
 ],
 "metadata": {
  "kernelspec": {
   "display_name": "python-shahzaibse",
   "language": "python",
   "name": "python3"
  },
  "language_info": {
   "codemirror_mode": {
    "name": "ipython",
    "version": 3
   },
   "file_extension": ".py",
   "mimetype": "text/x-python",
   "name": "python",
   "nbconvert_exporter": "python",
   "pygments_lexer": "ipython3",
   "version": "3.12.2"
  }
 },
 "nbformat": 4,
 "nbformat_minor": 2
}
